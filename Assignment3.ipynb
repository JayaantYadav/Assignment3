{
 "cells": [
  {
   "cell_type": "markdown",
   "id": "121219ee-6c46-48ea-9c82-6e733c6053a9",
   "metadata": {},
   "source": [
    "Q1.Which keyword is used to create a function? Create a function to return a list of odd numbers in the\n",
    "range of 1 to 25."
   ]
  },
  {
   "cell_type": "markdown",
   "id": "afd168b2-0bb6-489b-94eb-b58800e8a1c9",
   "metadata": {},
   "source": [
    "def keyword is used to create a function."
   ]
  },
  {
   "cell_type": "code",
   "execution_count": 22,
   "id": "7987bc7e-584e-4f81-9b48-dd9d0b240256",
   "metadata": {},
   "outputs": [],
   "source": [
    "def odd():\n",
    "    l = [a for a in range(1,25) if a%2 != 0]\n",
    "    return l\n",
    "    \n",
    "    "
   ]
  },
  {
   "cell_type": "markdown",
   "id": "0589e0f1-9c45-4b41-9f0d-e89d6226f668",
   "metadata": {},
   "source": [
    "Q2. Why *args and **kwargs is used in some functions? Create a function each for *args and **kwargs\n",
    "to demonstrate their use."
   ]
  },
  {
   "cell_type": "code",
   "execution_count": 8,
   "id": "d11d964f-036a-44eb-8cff-db85e38200d2",
   "metadata": {},
   "outputs": [],
   "source": [
    "# The special syntax *args in function definitions in python is used to pass a variable number of arguments to a function. \n",
    "# It is used to pass a non-key worded, variable-length argument list.\n",
    "\n",
    "def add(*ex):\n",
    "    s = 0\n",
    "    for a in ex:\n",
    "        s += a\n",
    "    return s"
   ]
  },
  {
   "cell_type": "code",
   "execution_count": 9,
   "id": "69eb3eed-24c6-4967-8b0e-532e7046d6bc",
   "metadata": {},
   "outputs": [],
   "source": [
    "# The special syntax **kwargs in function definitions in python is used to pass a keyworded, variable-length argument list. We use the name kwargs with the double star. \n",
    "# The reason is that the double star allows us to pass through keyword arguments (and any number of them).\n",
    "\n",
    "def dictionary(**d):\n",
    "    return d"
   ]
  },
  {
   "cell_type": "markdown",
   "id": "3b0ee719-e889-4a42-8f78-5764bac16167",
   "metadata": {},
   "source": [
    "Q3. What is an iterator in python? Name the method used to initialise the iterator object and the method\n",
    "used for iteration. Use these methods to print the first five elements of the given list [2, 4, 6, 8, 10, 12, 14,\n",
    "16, 18, 20]."
   ]
  },
  {
   "cell_type": "raw",
   "id": "1e447a82-90d8-4d11-b51e-c7192dc04e8f",
   "metadata": {},
   "source": [
    "Iterator in Python is an object that is used to iterate over iterable objects like lists, tuples, dicts, and sets. The iterator object is initialized using the iter() method. It uses the next() method for iteration. __next__(): The next method returns the next value for the iterable."
   ]
  },
  {
   "cell_type": "code",
   "execution_count": 1,
   "id": "83d52a40-dcca-4efa-91e7-71e483ae849a",
   "metadata": {},
   "outputs": [
    {
     "name": "stdout",
     "output_type": "stream",
     "text": [
      "2\n",
      "4\n",
      "6\n",
      "8\n",
      "10\n"
     ]
    }
   ],
   "source": [
    "l1 =[2, 4, 6, 8, 10, 12, 14,16, 18, 20]\n",
    "l2 , i= iter(l1),0\n",
    "while i<5:\n",
    "    print(next(l2)) \n",
    "    i+=1"
   ]
  },
  {
   "cell_type": "markdown",
   "id": "07154f99-975c-4cb6-901f-57f303105655",
   "metadata": {},
   "source": [
    "Q4. What is a generator function in python? Why yield keyword is used? Give an example of a generator\n",
    "function."
   ]
  },
  {
   "cell_type": "raw",
   "id": "aa76421e-9187-4ed0-9644-9cdb5a2c2c97",
   "metadata": {},
   "source": [
    "In Python, generator functions are those functions that, instead of returning a single value, return an iterable generator object. You can access or read the values returned from the generator function stored inside a generator object one-by-one using a simple loop or using next() or list() methods.\n",
    "\n",
    "The Yield keyword in Python is similar to a return statement used for returning values or objects in Python."
   ]
  },
  {
   "cell_type": "code",
   "execution_count": 11,
   "id": "5a194e34-2bc6-46b9-ba67-62e2ffea47b1",
   "metadata": {},
   "outputs": [],
   "source": [
    "def count_test(n):\n",
    "    count = 1\n",
    "    while count <n:\n",
    "        yield count\n",
    "        count = count +1"
   ]
  },
  {
   "cell_type": "code",
   "execution_count": 12,
   "id": "82d6ae81-9469-497e-be89-6950de483210",
   "metadata": {},
   "outputs": [],
   "source": [
    "c = count_test(16)"
   ]
  },
  {
   "cell_type": "code",
   "execution_count": 13,
   "id": "f05e2eba-2af8-4d69-9f3c-9bac991e6b43",
   "metadata": {},
   "outputs": [
    {
     "name": "stdout",
     "output_type": "stream",
     "text": [
      "1\n",
      "2\n",
      "3\n",
      "4\n",
      "5\n",
      "6\n",
      "7\n",
      "8\n",
      "9\n",
      "10\n",
      "11\n",
      "12\n",
      "13\n",
      "14\n",
      "15\n"
     ]
    }
   ],
   "source": [
    "for i in c:\n",
    "    print(i)"
   ]
  },
  {
   "cell_type": "markdown",
   "id": "9c60d810-79cf-4003-a931-6643f3320039",
   "metadata": {},
   "source": [
    "Q5. Create a generator function for prime numbers less than 1000. Use the next() method to print the\n",
    "first 20 prime numbers."
   ]
  },
  {
   "cell_type": "code",
   "execution_count": 17,
   "id": "5cd68795-5095-4d74-8bf1-1097d1d87645",
   "metadata": {},
   "outputs": [],
   "source": [
    "def prime():\n",
    "    for n in range(1,1000):\n",
    "        a = 0\n",
    "        for d in range(1,n):\n",
    "            if n%d == 0:\n",
    "                a+=1\n",
    "        if a == 1:\n",
    "            yield n"
   ]
  },
  {
   "cell_type": "code",
   "execution_count": 25,
   "id": "d737b96d-d130-4cb7-aa1c-b6475338c046",
   "metadata": {},
   "outputs": [
    {
     "name": "stdout",
     "output_type": "stream",
     "text": [
      "2\n",
      "3\n",
      "5\n",
      "7\n",
      "11\n",
      "13\n",
      "17\n",
      "19\n",
      "23\n",
      "29\n",
      "31\n",
      "37\n",
      "41\n",
      "43\n",
      "47\n",
      "53\n",
      "59\n",
      "61\n",
      "67\n",
      "71\n"
     ]
    }
   ],
   "source": [
    "#prinitng first 20 prime numbers in the generator object using while loop\n",
    "i , o = 0,prime()        \n",
    "while i<20:\n",
    "    print(next(o))\n",
    "    i+=1   "
   ]
  },
  {
   "cell_type": "markdown",
   "id": "4d0ada74-26e1-4de7-ab8d-8c449172c54e",
   "metadata": {},
   "source": [
    "Write a python program to print the first 10 Fibonacci numbers using a while loop."
   ]
  },
  {
   "cell_type": "markdown",
   "id": "3ecc956b-1bf7-477d-96ef-c980a938cd5b",
   "metadata": {},
   "source": [
    "def fib():\n",
    "    a,b= 0,1\n",
    "    while True:\n",
    "        yield a\n",
    "        a,b = b,a+b\n",
    "i,o = 0,fib()\n",
    "while i<10:\n",
    "    print(next(o))\n",
    "    i+=1  "
   ]
  },
  {
   "cell_type": "markdown",
   "id": "bf9687af-c7bd-4566-bdcc-4cb57e4f87c8",
   "metadata": {},
   "source": [
    "Write a List Comprehension to iterate through the given string: ‘pwskills’."
   ]
  },
  {
   "cell_type": "code",
   "execution_count": 27,
   "id": "f95004fe-d936-4e2b-834d-b5d7285e0768",
   "metadata": {},
   "outputs": [
    {
     "name": "stdout",
     "output_type": "stream",
     "text": [
      "['p', 'w', 's', 'k', 'i', 'l', 'l', 's']\n"
     ]
    }
   ],
   "source": [
    "s = 'pwskills'\n",
    "si = iter(s)\n",
    "lc = [a for a in si]\n",
    "print(lc)"
   ]
  },
  {
   "cell_type": "markdown",
   "id": "d2a6c1c0-1d25-4bea-b8a6-b82e989978ab",
   "metadata": {},
   "source": [
    "Write a python program to check whether a given number is Palindrome or not using a while loop."
   ]
  },
  {
   "cell_type": "code",
   "execution_count": 32,
   "id": "804f0960-2bdf-4996-9232-0e4609468858",
   "metadata": {},
   "outputs": [
    {
     "name": "stdin",
     "output_type": "stream",
     "text": [
      "Enter the number :-  1121\n"
     ]
    },
    {
     "name": "stdout",
     "output_type": "stream",
     "text": [
      "Number not Palindrome\n"
     ]
    }
   ],
   "source": [
    "s = input('Enter the number :- ')\n",
    "if s == s[::-1]:\n",
    "    print('Number is Palindrome')\n",
    "else:\n",
    "    print('Number not Palindrome')"
   ]
  },
  {
   "cell_type": "markdown",
   "id": "af7e8de2-074f-4efe-b39e-3be2fc7b9ff4",
   "metadata": {},
   "source": [
    "Write a code to print odd numbers from 1 to 100 using list comprehension."
   ]
  },
  {
   "cell_type": "code",
   "execution_count": 43,
   "id": "66535322-4417-4ad3-adc5-bf476bb8a57e",
   "metadata": {},
   "outputs": [],
   "source": [
    "l = [i for i in  range(1,100) if i%2 !=0]"
   ]
  },
  {
   "cell_type": "code",
   "execution_count": 44,
   "id": "50ccd69a-8fd6-4d8d-8895-bdc82e6ecfbb",
   "metadata": {},
   "outputs": [
    {
     "name": "stdout",
     "output_type": "stream",
     "text": [
      "[1, 3, 5, 7, 9, 11, 13, 15, 17, 19, 21, 23, 25, 27, 29, 31, 33, 35, 37, 39, 41, 43, 45, 47, 49, 51, 53, 55, 57, 59, 61, 63, 65, 67, 69, 71, 73, 75, 77, 79, 81, 83, 85, 87, 89, 91, 93, 95, 97, 99]\n"
     ]
    }
   ],
   "source": [
    "print(l)"
   ]
  },
  {
   "cell_type": "code",
   "execution_count": null,
   "id": "9dc94219-ec51-43b6-bb21-7a57b1753d7f",
   "metadata": {},
   "outputs": [],
   "source": []
  }
 ],
 "metadata": {
  "kernelspec": {
   "display_name": "Python 3 (ipykernel)",
   "language": "python",
   "name": "python3"
  },
  "language_info": {
   "codemirror_mode": {
    "name": "ipython",
    "version": 3
   },
   "file_extension": ".py",
   "mimetype": "text/x-python",
   "name": "python",
   "nbconvert_exporter": "python",
   "pygments_lexer": "ipython3",
   "version": "3.10.8"
  }
 },
 "nbformat": 4,
 "nbformat_minor": 5
}
